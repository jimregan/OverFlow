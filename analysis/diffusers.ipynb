{
 "cells": [
  {
   "cell_type": "code",
   "execution_count": 1,
   "metadata": {},
   "outputs": [
    {
     "name": "stdout",
     "output_type": "stream",
     "text": [
      "/home/smehta/Projects/OverFlow\n"
     ]
    }
   ],
   "source": [
    "# %pip install -qq -U diffusers transformers ftfy pyarrow==9.0.0\n",
    "%cd ..\n",
    "%load_ext autoreload\n",
    "%autoreload 2"
   ]
  },
  {
   "cell_type": "code",
   "execution_count": 2,
   "metadata": {},
   "outputs": [
    {
     "name": "stdout",
     "output_type": "stream",
     "text": [
      "env: CUDA_VISIBLE_DEVICES=0\n"
     ]
    }
   ],
   "source": [
    "%env CUDA_VISIBLE_DEVICES=0"
   ]
  },
  {
   "cell_type": "code",
   "execution_count": 3,
   "metadata": {},
   "outputs": [],
   "source": [
    "from src.hparams import create_hparams\n",
    "from src.utilities.data import TextMelLoader, TextMelMotionCollate\n",
    "from torch.utils.data import DataLoader"
   ]
  },
  {
   "cell_type": "code",
   "execution_count": 4,
   "metadata": {},
   "outputs": [],
   "source": [
    "hparams = create_hparams()"
   ]
  },
  {
   "cell_type": "code",
   "execution_count": 5,
   "metadata": {},
   "outputs": [
    {
     "name": "stdout",
     "output_type": "stream",
     "text": [
      "Data cache found at : data/filelists/cormac_train.txt.cleaned! Loading cache...\n"
     ]
    },
    {
     "data": {
      "application/vnd.jupyter.widget-view+json": {
       "model_id": "",
       "version_major": 2,
       "version_minor": 0
      },
      "text/plain": [
       "  0%|          | 0/4812 [00:00<?, ?it/s]"
      ]
     },
     "metadata": {},
     "output_type": "display_data"
    },
    {
     "name": "stdout",
     "output_type": "stream",
     "text": [
      "Done caching mels! New mels cached: 0\n"
     ]
    }
   ],
   "source": [
    "trainset = TextMelLoader(\n",
    "            hparams.training_files, hparams, [hparams.mel_normaliser], [hparams.motion_normaliser]\n",
    ")\n",
    "\n",
    "train_dataloader = DataLoader(\n",
    "            trainset,\n",
    "            batch_size=32,\n",
    "            collate_fn=TextMelMotionCollate(hparams.n_frames_per_step),\n",
    "            num_workers=hparams.num_workers,\n",
    "            pin_memory=True,\n",
    "        )"
   ]
  },
  {
   "cell_type": "code",
   "execution_count": null,
   "metadata": {},
   "outputs": [],
   "source": []
  },
  {
   "cell_type": "code",
   "execution_count": 6,
   "metadata": {},
   "outputs": [],
   "source": [
    "from diffusers import DDIMScheduler, DDPMScheduler\n",
    "from src.model.diffusion import GradLogPEstimator2d\n",
    "from src.model.wavegrad import WaveGrad"
   ]
  },
  {
   "cell_type": "code",
   "execution_count": 7,
   "metadata": {},
   "outputs": [],
   "source": [
    "import torch\n",
    "import torch.nn as nn\n",
    "import torch.nn.functional as F\n",
    "from tqdm.auto import tqdm\n",
    "from src.utilities.functions import fix_len_compatibility, get_mask_from_len\n",
    "device = torch.device(\"cuda\" if torch.cuda.is_available() else \"cpu\")\n",
    "import matplotlib.pyplot as plt"
   ]
  },
  {
   "cell_type": "code",
   "execution_count": 8,
   "metadata": {},
   "outputs": [],
   "source": [
    "noise_scheduler = DDPMScheduler(num_train_timesteps=1000, beta_schedule='squaredcos_cap_v2')\n",
    "\n",
    "net = GradLogPEstimator2d(\n",
    "    64,\n",
    "    n_feats=80,\n",
    "    n_spks=1\n",
    ").to(device)\n",
    "\n",
    "losses = []\n",
    "\n",
    "\n",
    "net = WaveGrad(\n",
    "    motion_in_channels=45, \n",
    "    latent_in_channels=80\n",
    ").to(device)\n",
    "\n",
    "\n",
    "opt = torch.optim.Adam(net.parameters(), lr=1e-3)\n"
   ]
  },
  {
   "cell_type": "code",
   "execution_count": null,
   "metadata": {},
   "outputs": [
    {
     "data": {
      "application/vnd.jupyter.widget-view+json": {
       "model_id": "89315ad5789c491799b2d93cb94e21be",
       "version_major": 2,
       "version_minor": 0
      },
      "text/plain": [
       "  0%|          | 0/151 [00:01<?, ?it/s]"
      ]
     },
     "metadata": {},
     "output_type": "display_data"
    },
    {
     "name": "stdout",
     "output_type": "stream",
     "text": [
      "Finished epoch 0. Average of the last 100 loss values: 0.480170\n"
     ]
    },
    {
     "data": {
      "application/vnd.jupyter.widget-view+json": {
       "model_id": "26469f499a8f440c8a96b8335fa64855",
       "version_major": 2,
       "version_minor": 0
      },
      "text/plain": [
       "  0%|          | 0/151 [00:03<?, ?it/s]"
      ]
     },
     "metadata": {},
     "output_type": "display_data"
    },
    {
     "name": "stdout",
     "output_type": "stream",
     "text": [
      "Finished epoch 1. Average of the last 100 loss values: 0.262889\n"
     ]
    },
    {
     "data": {
      "application/vnd.jupyter.widget-view+json": {
       "model_id": "e7ce56a53ce949f1acb46211e41bde25",
       "version_major": 2,
       "version_minor": 0
      },
      "text/plain": [
       "  0%|          | 0/151 [00:02<?, ?it/s]"
      ]
     },
     "metadata": {},
     "output_type": "display_data"
    },
    {
     "name": "stdout",
     "output_type": "stream",
     "text": [
      "Finished epoch 2. Average of the last 100 loss values: 0.200206\n"
     ]
    },
    {
     "data": {
      "application/vnd.jupyter.widget-view+json": {
       "model_id": "8bb4e376a59b4dc4b8bdd5430851457c",
       "version_major": 2,
       "version_minor": 0
      },
      "text/plain": [
       "  0%|          | 0/151 [00:02<?, ?it/s]"
      ]
     },
     "metadata": {},
     "output_type": "display_data"
    },
    {
     "name": "stdout",
     "output_type": "stream",
     "text": [
      "Finished epoch 3. Average of the last 100 loss values: 0.173795\n"
     ]
    },
    {
     "data": {
      "application/vnd.jupyter.widget-view+json": {
       "model_id": "8a0fa6d73e124754b12a24f80173acde",
       "version_major": 2,
       "version_minor": 0
      },
      "text/plain": [
       "  0%|          | 0/151 [00:03<?, ?it/s]"
      ]
     },
     "metadata": {},
     "output_type": "display_data"
    },
    {
     "name": "stdout",
     "output_type": "stream",
     "text": [
      "Finished epoch 4. Average of the last 100 loss values: 0.148546\n"
     ]
    },
    {
     "data": {
      "application/vnd.jupyter.widget-view+json": {
       "model_id": "d2a7ffdb1cf64323ba570350fc96aeba",
       "version_major": 2,
       "version_minor": 0
      },
      "text/plain": [
       "  0%|          | 0/151 [00:03<?, ?it/s]"
      ]
     },
     "metadata": {},
     "output_type": "display_data"
    },
    {
     "name": "stdout",
     "output_type": "stream",
     "text": [
      "Finished epoch 5. Average of the last 100 loss values: 0.140949\n"
     ]
    },
    {
     "data": {
      "application/vnd.jupyter.widget-view+json": {
       "model_id": "d1e50572b5a34d4a860c32a1e026021f",
       "version_major": 2,
       "version_minor": 0
      },
      "text/plain": [
       "  0%|          | 0/151 [00:03<?, ?it/s]"
      ]
     },
     "metadata": {},
     "output_type": "display_data"
    },
    {
     "name": "stdout",
     "output_type": "stream",
     "text": [
      "Finished epoch 6. Average of the last 100 loss values: 0.132708\n"
     ]
    },
    {
     "data": {
      "application/vnd.jupyter.widget-view+json": {
       "model_id": "0922af164b844cfeb15a0771a5ffba3d",
       "version_major": 2,
       "version_minor": 0
      },
      "text/plain": [
       "  0%|          | 0/151 [00:03<?, ?it/s]"
      ]
     },
     "metadata": {},
     "output_type": "display_data"
    },
    {
     "name": "stdout",
     "output_type": "stream",
     "text": [
      "Finished epoch 7. Average of the last 100 loss values: 0.125844\n"
     ]
    },
    {
     "data": {
      "application/vnd.jupyter.widget-view+json": {
       "model_id": "dfb5a1052ba1485ab769f9d56d40a97b",
       "version_major": 2,
       "version_minor": 0
      },
      "text/plain": [
       "  0%|          | 0/151 [00:03<?, ?it/s]"
      ]
     },
     "metadata": {},
     "output_type": "display_data"
    },
    {
     "name": "stdout",
     "output_type": "stream",
     "text": [
      "Finished epoch 8. Average of the last 100 loss values: 0.122321\n"
     ]
    },
    {
     "data": {
      "application/vnd.jupyter.widget-view+json": {
       "model_id": "be5ccb560033417f8e3ef80a31eb21db",
       "version_major": 2,
       "version_minor": 0
      },
      "text/plain": [
       "  0%|          | 0/151 [00:03<?, ?it/s]"
      ]
     },
     "metadata": {},
     "output_type": "display_data"
    },
    {
     "name": "stdout",
     "output_type": "stream",
     "text": [
      "Finished epoch 9. Average of the last 100 loss values: 0.119541\n"
     ]
    },
    {
     "data": {
      "application/vnd.jupyter.widget-view+json": {
       "model_id": "8aa10cb80a1f4dd4b7448f0dd804d6b4",
       "version_major": 2,
       "version_minor": 0
      },
      "text/plain": [
       "  0%|          | 0/151 [00:03<?, ?it/s]"
      ]
     },
     "metadata": {},
     "output_type": "display_data"
    },
    {
     "name": "stdout",
     "output_type": "stream",
     "text": [
      "Finished epoch 10. Average of the last 100 loss values: 0.113181\n"
     ]
    },
    {
     "data": {
      "application/vnd.jupyter.widget-view+json": {
       "model_id": "e0008898356e423ab36c0b49286ede0d",
       "version_major": 2,
       "version_minor": 0
      },
      "text/plain": [
       "  0%|          | 0/151 [00:03<?, ?it/s]"
      ]
     },
     "metadata": {},
     "output_type": "display_data"
    },
    {
     "name": "stdout",
     "output_type": "stream",
     "text": [
      "Finished epoch 11. Average of the last 100 loss values: 0.108509\n"
     ]
    },
    {
     "data": {
      "application/vnd.jupyter.widget-view+json": {
       "model_id": "0cfadca3f50445aca0a105a083e0475d",
       "version_major": 2,
       "version_minor": 0
      },
      "text/plain": [
       "  0%|          | 0/151 [00:03<?, ?it/s]"
      ]
     },
     "metadata": {},
     "output_type": "display_data"
    },
    {
     "name": "stdout",
     "output_type": "stream",
     "text": [
      "Finished epoch 12. Average of the last 100 loss values: 0.114314\n"
     ]
    },
    {
     "data": {
      "application/vnd.jupyter.widget-view+json": {
       "model_id": "e7b48e1191a642f198f7fe4fc3d3a3e2",
       "version_major": 2,
       "version_minor": 0
      },
      "text/plain": [
       "  0%|          | 0/151 [00:03<?, ?it/s]"
      ]
     },
     "metadata": {},
     "output_type": "display_data"
    },
    {
     "name": "stdout",
     "output_type": "stream",
     "text": [
      "Finished epoch 13. Average of the last 100 loss values: 0.106735\n"
     ]
    },
    {
     "data": {
      "application/vnd.jupyter.widget-view+json": {
       "model_id": "20187f21881043d1a4d8238775eb817a",
       "version_major": 2,
       "version_minor": 0
      },
      "text/plain": [
       "  0%|          | 0/151 [00:04<?, ?it/s]"
      ]
     },
     "metadata": {},
     "output_type": "display_data"
    },
    {
     "name": "stdout",
     "output_type": "stream",
     "text": [
      "Finished epoch 14. Average of the last 100 loss values: 0.105727\n"
     ]
    },
    {
     "data": {
      "application/vnd.jupyter.widget-view+json": {
       "model_id": "2526b98ae67f4bb7b268ddd8b00a7c96",
       "version_major": 2,
       "version_minor": 0
      },
      "text/plain": [
       "  0%|          | 0/151 [00:04<?, ?it/s]"
      ]
     },
     "metadata": {},
     "output_type": "display_data"
    },
    {
     "name": "stdout",
     "output_type": "stream",
     "text": [
      "Finished epoch 15. Average of the last 100 loss values: 0.105370\n"
     ]
    },
    {
     "data": {
      "application/vnd.jupyter.widget-view+json": {
       "model_id": "b51dbff8cd834fdd9267ea099da7fa33",
       "version_major": 2,
       "version_minor": 0
      },
      "text/plain": [
       "  0%|          | 0/151 [00:04<?, ?it/s]"
      ]
     },
     "metadata": {},
     "output_type": "display_data"
    },
    {
     "name": "stdout",
     "output_type": "stream",
     "text": [
      "Finished epoch 16. Average of the last 100 loss values: 0.102220\n"
     ]
    },
    {
     "data": {
      "application/vnd.jupyter.widget-view+json": {
       "model_id": "0524212705c147788cf577899fb38f22",
       "version_major": 2,
       "version_minor": 0
      },
      "text/plain": [
       "  0%|          | 0/151 [00:05<?, ?it/s]"
      ]
     },
     "metadata": {},
     "output_type": "display_data"
    },
    {
     "name": "stdout",
     "output_type": "stream",
     "text": [
      "Finished epoch 17. Average of the last 100 loss values: 0.102118\n"
     ]
    },
    {
     "data": {
      "application/vnd.jupyter.widget-view+json": {
       "model_id": "81d0f80f9d484c159f3be7e26ff3ab42",
       "version_major": 2,
       "version_minor": 0
      },
      "text/plain": [
       "  0%|          | 0/151 [00:05<?, ?it/s]"
      ]
     },
     "metadata": {},
     "output_type": "display_data"
    },
    {
     "name": "stdout",
     "output_type": "stream",
     "text": [
      "Finished epoch 18. Average of the last 100 loss values: 0.096308\n"
     ]
    },
    {
     "data": {
      "application/vnd.jupyter.widget-view+json": {
       "model_id": "cebb47cfca0b4a8c96a8b5d18e32e60e",
       "version_major": 2,
       "version_minor": 0
      },
      "text/plain": [
       "  0%|          | 0/151 [00:05<?, ?it/s]"
      ]
     },
     "metadata": {},
     "output_type": "display_data"
    },
    {
     "name": "stdout",
     "output_type": "stream",
     "text": [
      "Finished epoch 19. Average of the last 100 loss values: 0.097329\n"
     ]
    },
    {
     "data": {
      "application/vnd.jupyter.widget-view+json": {
       "model_id": "2c3ef79697014eea94408065d7019b86",
       "version_major": 2,
       "version_minor": 0
      },
      "text/plain": [
       "  0%|          | 0/151 [00:05<?, ?it/s]"
      ]
     },
     "metadata": {},
     "output_type": "display_data"
    },
    {
     "name": "stderr",
     "output_type": "stream",
     "text": [
      "IOStream.flush timed out\n",
      "IOStream.flush timed out\n"
     ]
    },
    {
     "name": "stdout",
     "output_type": "stream",
     "text": [
      "Finished epoch 20. Average of the last 100 loss values: 0.099135\n"
     ]
    },
    {
     "data": {
      "application/vnd.jupyter.widget-view+json": {
       "model_id": "80c2a57f822c4501bd004560900ac6ec",
       "version_major": 2,
       "version_minor": 0
      },
      "text/plain": [
       "  0%|          | 0/151 [00:07<?, ?it/s]"
      ]
     },
     "metadata": {},
     "output_type": "display_data"
    },
    {
     "name": "stdout",
     "output_type": "stream",
     "text": [
      "Finished epoch 21. Average of the last 100 loss values: 0.101331\n"
     ]
    },
    {
     "data": {
      "application/vnd.jupyter.widget-view+json": {
       "model_id": "427f1630c2ea4449809e538141258760",
       "version_major": 2,
       "version_minor": 0
      },
      "text/plain": [
       "  0%|          | 0/151 [00:08<?, ?it/s]"
      ]
     },
     "metadata": {},
     "output_type": "display_data"
    },
    {
     "name": "stdout",
     "output_type": "stream",
     "text": [
      "Finished epoch 22. Average of the last 100 loss values: 0.103214\n"
     ]
    },
    {
     "data": {
      "application/vnd.jupyter.widget-view+json": {
       "model_id": "c701abf0ff1c4ab797a700be3b832a00",
       "version_major": 2,
       "version_minor": 0
      },
      "text/plain": [
       "  0%|          | 0/151 [00:10<?, ?it/s]"
      ]
     },
     "metadata": {},
     "output_type": "display_data"
    }
   ],
   "source": [
    "loss_fn = nn.L1Loss()\n",
    "\n",
    "# The optimizer\n",
    "\n",
    "# Keeping a record of the losses for later viewing\n",
    "\n",
    "# The training loop\n",
    "for epoch in range(40):\n",
    "    pbar = tqdm(train_dataloader)\n",
    "    pbar.set_description(f'Epoch: {epoch}')\n",
    "    for batch in pbar:\n",
    "        text_padded, input_lengths, mel_padded, motion_padded, output_lengths = batch\n",
    "        # Get some data and prepare the corrupted version\n",
    "        \n",
    "        \n",
    "        x = motion_padded.to(device)\n",
    "        condition = mel_padded.to(device)\n",
    "        \n",
    "        output_lengths = output_lengths.to(device)\n",
    "        # output_lengths_max = fix_len_compatibility(int(output_lengths.max()))\n",
    "        output_lengths_mask = get_mask_from_len(output_lengths, output_lengths.max(), device=x.device, dtype=x.dtype).unsqueeze(1)\n",
    "        # original_length = x.shape[-1]\n",
    "        # x = F.pad(x, (0, output_lengths_max - x.shape[-1]))\n",
    "        \n",
    "  \n",
    "        noise = torch.randn_like(x)\n",
    "        timesteps = torch.randint(0, 999, (x.shape[0],)).long().to(device)\n",
    "        noisy_x = noise_scheduler.add_noise(x, noise, timesteps)\n",
    "        \n",
    "        # Get the model prediction\n",
    "        pred = net(noisy_x, output_lengths_mask, condition, timesteps) \n",
    "\n",
    "        # Calculate the loss\n",
    "        loss = loss_fn(pred * output_lengths_mask, noise * output_lengths_mask) # How close is the output to the noise\n",
    "        \n",
    "        pbar.set_postfix({\"loss\" : loss.item()})\n",
    "        \n",
    "        if loss > 15:\n",
    "            import pdb; pdb.set_trace()\n",
    "        \n",
    "\n",
    "        # Backprop and update the params:\n",
    "        opt.zero_grad()\n",
    "        loss.backward()\n",
    "        opt.step()\n",
    "\n",
    "        # Store the loss for later\n",
    "        losses.append(loss.item())\n",
    "\n",
    "    # Print our the average of the last 100 loss values to get an idea of progress:\n",
    "    avg_loss = sum(losses[-100:])/100\n",
    "    print(f'Finished epoch {epoch}. Average of the last 100 loss values: {avg_loss:05f}')\n",
    "\n",
    "# View the loss curve"
   ]
  },
  {
   "cell_type": "code",
   "execution_count": null,
   "metadata": {},
   "outputs": [],
   "source": [
    "plt.plot(losses)"
   ]
  },
  {
   "cell_type": "code",
   "execution_count": null,
   "metadata": {},
   "outputs": [],
   "source": [
    "## DDPM\n",
    "len_ = 929\n",
    "x = torch.randn(1, 45, len_).to(device)\n",
    "mask = get_mask_from_len(torch.tensor([len_], device=device, dtype=torch.long), len_, device=x.device, dtype=x.dtype).unsqueeze(1)\n",
    "noise_scheduler.set_timesteps(num_inference_steps=len_)\n",
    "# Sampling loop\n",
    "for i, t in tqdm(enumerate(noise_scheduler.timesteps)):\n",
    "    \n",
    "    x = noise_scheduler.scale_model_input(x, t)\n",
    "    # Get model pred\n",
    "    t = t.unsqueeze(0).to(device)\n",
    "    with torch.no_grad():\n",
    "        residual = net(x, mask, mel_padded[0:1].to(device), t)  # Again, note that we pass in our labels y\n",
    "\n",
    "    # Update sample with step\n",
    "    x = noise_scheduler.step(residual, t, x, temperature=0.334).prev_sample"
   ]
  },
  {
   "cell_type": "code",
   "execution_count": null,
   "metadata": {},
   "outputs": [],
   "source": [
    "# ### DDIM\n",
    "# len_ = 1000\n",
    "# x = torch.randn(1, 80, len_).to(device)\n",
    "# mask = get_mask_from_len(torch.tensor([len_], device=device, dtype=torch.long), len_, device=x.device, dtype=x.dtype).unsqueeze(1)\n",
    "# noise_scheduler.set_timesteps(num_inference_steps=40)\n",
    "# # Sampling loop\n",
    "# for i, t in tqdm(enumerate(noise_scheduler.timesteps)):\n",
    "    \n",
    "#     x = noise_scheduler.scale_model_input(x, t)\n",
    "#     # Get model pred\n",
    "#     t = t.unsqueeze(0).to(device)\n",
    "#     with torch.no_grad():\n",
    "#         residual = net(x, mask, x, t)  # Again, note that we pass in our labels y\n",
    "\n",
    "#     # Update sample with step\n",
    "#     x = noise_scheduler.step(residual, t, x, temperature=0.334).prev_sample * mask"
   ]
  },
  {
   "cell_type": "code",
   "execution_count": null,
   "metadata": {},
   "outputs": [],
   "source": [
    "mel_spectrogram = x.squeeze(0).cpu().detach().numpy()\n"
   ]
  },
  {
   "cell_type": "code",
   "execution_count": null,
   "metadata": {},
   "outputs": [],
   "source": [
    "fig, ax = plt.subplots(figsize=(12, 3))\n",
    "im = ax.imshow(mel_spectrogram, aspect=\"auto\", origin=\"lower\", interpolation=\"none\")\n",
    "plt.colorbar(im, ax=ax)\n",
    "plt.xlabel(\"Frames\")\n",
    "plt.ylabel(\"Channels\")\n",
    "plt.tight_layout()\n",
    "plt.show()"
   ]
  },
  {
   "cell_type": "code",
   "execution_count": null,
   "metadata": {},
   "outputs": [],
   "source": [
    "%%capture\n",
    "from pymo.preprocessing import MocapParameterizer\n",
    "from pymo.viz_tools import render_mp4\n",
    "hparams.motion_visualizer\n",
    "\n",
    "bvh_values = hparams.motion_visualizer.inverse_transform([mel_spectrogram.T])\n",
    "\n",
    "    # To stickfigure\n",
    "X_pos = MocapParameterizer(\"position\").fit_transform(bvh_values)\n",
    "\n",
    "render_mp4(X_pos[0], \"temp.mp4\", axis_scale=200)"
   ]
  },
  {
   "cell_type": "code",
   "execution_count": null,
   "metadata": {},
   "outputs": [],
   "source": []
  }
 ],
 "metadata": {
  "kernelspec": {
   "display_name": "Python 3 (ipykernel)",
   "language": "python",
   "name": "python3"
  },
  "language_info": {
   "codemirror_mode": {
    "name": "ipython",
    "version": 3
   },
   "file_extension": ".py",
   "mimetype": "text/x-python",
   "name": "python",
   "nbconvert_exporter": "python",
   "pygments_lexer": "ipython3",
   "version": "3.9.2"
  }
 },
 "nbformat": 4,
 "nbformat_minor": 2
}
